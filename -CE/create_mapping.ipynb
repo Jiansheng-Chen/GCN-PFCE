{
 "cells": [
  {
   "cell_type": "code",
   "execution_count": 1,
   "id": "bd5e3839",
   "metadata": {},
   "outputs": [
    {
     "name": "stdout",
     "output_type": "stream",
     "text": [
      "Found 48 unique named entity tags\n",
      "========================================\n",
      "{'NN': 0, 'IN': 1, 'DT': 2, 'NNP': 3, 'JJ': 4, 'NNS': 5, ',': 6, 'PRP': 7, 'RB': 8, 'VBD': 9, '.': 10, 'VB': 11, 'CC': 12, 'VBN': 13, 'VBG': 14, 'VBP': 15, 'VBZ': 16, 'CD': 17, 'TO': 18, 'PRP$': 19, 'MD': 20, 'HYPH': 21, ':': 22, 'POS': 23, 'WP': 24, 'WDT': 25, 'RP': 26, 'UH': 27, 'WRB': 28, '``': 29, \"''\": 30, 'NNPS': 31, 'JJR': 32, '-RRB-': 33, '-LRB-': 34, 'EX': 35, 'JJS': 36, 'RBR': 37, 'NFP': 38, '$': 39, 'RBS': 40, 'PDT': 41, 'FW': 42, 'SYM': 43, 'WP$': 44, 'LS': 45, 'ADD': 46, 'AFX': 47}\n",
      "========================================\n",
      "{0: 'NN', 1: 'IN', 2: 'DT', 3: 'NNP', 4: 'JJ', 5: 'NNS', 6: ',', 7: 'PRP', 8: 'RB', 9: 'VBD', 10: '.', 11: 'VB', 12: 'CC', 13: 'VBN', 14: 'VBG', 15: 'VBP', 16: 'VBZ', 17: 'CD', 18: 'TO', 19: 'PRP$', 20: 'MD', 21: 'HYPH', 22: ':', 23: 'POS', 24: 'WP', 25: 'WDT', 26: 'RP', 27: 'UH', 28: 'WRB', 29: '``', 30: \"''\", 31: 'NNPS', 32: 'JJR', 33: '-RRB-', 34: '-LRB-', 35: 'EX', 36: 'JJS', 37: 'RBR', 38: 'NFP', 39: '$', 40: 'RBS', 41: 'PDT', 42: 'FW', 43: 'SYM', 44: 'WP$', 45: 'LS', 46: 'ADD', 47: 'AFX'}\n"
     ]
    }
   ],
   "source": [
    "#下面是为出现的某一种tag(事件类型、实体类型等)制作mapping的代码\n",
    "#可通过修改loader.tag_mapping的第二个参数和第三个参数指定构建mapping所用到的tag\n",
    "#dependency没有O，手动添加？\n",
    "import loader\n",
    "import numpy as np\n",
    "\n",
    "paths=['./data_doc/test_ee.json', './data_doc/dev_ee.json', './data_doc/train_ee.json']\n",
    "sentences_list=[]\n",
    "for path in paths:\n",
    "    sentences=loader.load_sentences(path)\n",
    "    sentences_list.extend(sentences)\n",
    "\n",
    "dico, char_to_id, id_to_char=loader.tag_mapping(sentences_list, 7)\n",
    "print(\"=\"*40)\n",
    "print(char_to_id)\n",
    "print(\"=\"*40)\n",
    "print(id_to_char)"
   ]
  },
  {
   "cell_type": "code",
   "execution_count": 2,
   "id": "b8708b1f",
   "metadata": {},
   "outputs": [
    {
     "name": "stdout",
     "output_type": "stream",
     "text": [
      "========================================\n",
      "{'O': 0, '2_Individual': 1, '2_Group': 2, '2_time': 3, '2_Nation': 4, '2_Building_Grounds': 5, '2_Government': 6, '2_Crime': 7, '2_Non_Governmental': 8, '2_Population_Center': 9, '2_Commercial': 10, '2_Region_General': 11, '2_Indeterminate': 12, '2_Media': 13, '2_Money': 14, '2_Air': 15, '2_Land': 16, '2_Path': 17, '2_Job_Title': 18, '2_Sentence': 19, '2_State_or_Province': 20, '2_Airport': 21, '2_Water': 22, '2_Exploding': 23, '2_Subarea_Facility': 24, '2_Underspecified': 25, '2_Sports': 26, '2_Projectile': 27, '2_Shooting': 28, '2_Celestial': 29, '2_Entertainment': 30, '2_Special': 31, '2_GPE_Cluster': 32, '2_Water_Body': 33, '2_Boundary': 34, '2_Land_Region_Natural': 35, '2_Educational': 36, '2_Region_International': 37, '2_Nuclear': 38, '2_Religious': 39, '2_Percent': 40, '2_Medical_Science': 41, '2_Continent': 42, '2_Subarea_Vehicle': 43, '2_Chemical': 44, '2_County_or_District': 45, '2_Biological': 46, '2_Sharp': 47, '2_Plant': 48, '2_Blunt': 49, '2_E_Mail': 50, '2_Address': 51, '2_Phone_Number': 52, '2_URL': 53}\n",
      "count_null 0\n"
     ]
    }
   ],
   "source": [
    "\n",
    "###在不算B和I的区别的时候，还要运行下面的代码\n",
    "d={}\n",
    "i=0\n",
    "countnull=0\n",
    "for key in char_to_id.keys():\n",
    "    if(key=='O'):\n",
    "        if(key not in d):\n",
    "            d[key]=i\n",
    "            i+=1\n",
    "    elif(key == \"null\"):\n",
    "        countnull+=1\n",
    "        continue\n",
    "    else:\n",
    "        new_key=key[int(key.find(\"-\"))+1:].replace(\"-\",\"_\")\n",
    "        if(new_key not in d):\n",
    "            d[new_key]=i\n",
    "            i+=1\n",
    "print(\"=\"*40)\n",
    "print(d)\n",
    "print(\"count_null\",countnull)"
   ]
  },
  {
   "cell_type": "code",
   "execution_count": null,
   "id": "b5fef5b4",
   "metadata": {},
   "outputs": [],
   "source": []
  }
 ],
 "metadata": {
  "kernelspec": {
   "display_name": "pytorch1.9-cuda11 (ipykernel)",
   "language": "python",
   "name": "python3"
  },
  "language_info": {
   "codemirror_mode": {
    "name": "ipython",
    "version": 3
   },
   "file_extension": ".py",
   "mimetype": "text/x-python",
   "name": "python",
   "nbconvert_exporter": "python",
   "pygments_lexer": "ipython3",
   "version": "3.8.10"
  }
 },
 "nbformat": 4,
 "nbformat_minor": 5
}
